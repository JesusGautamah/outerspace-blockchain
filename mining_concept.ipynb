{
 "cells": [
  {
   "cell_type": "markdown",
   "metadata": {},
   "source": [
    "## Mining Concept\n",
    "- Every user will have a **randomized acceptable word list**\n",
    "- This word list will have three classes of words\n",
    "1. Common words\n",
    "2. Symbol Sequence\n",
    "3. Number Sequence\n",
    "\n",
    "<p> \n",
    "When a user want to mine a block, the user will open a ticket in the server\n",
    "and after the ticket is open, the user will start to mine the block\n",
    "</p> \n",
    "\n",
    "<p>\n",
    "The mine will depend of the contract signatures that will be formed by the server using the word list of the user\n",
    "</p>\n",
    "\n",
    "\n",
    "## Steps to mine a block:\n",
    "\n",
    "1. The user will open a TICKET in the server\n",
    "2. The server will send a message to the user to start mining if the POOL is open\n",
    "3. The users will load the RANDOM WORD LIST provided by the server API\n",
    "4. The user have to use 1 common word, 1 symbol sequence and 1 number sequence, randomize the characters\n",
    "5. Transform the chartacters in a SHA256 hash\n",
    "6. Transform the block info in before ticket opened in a SHA256 hash\n",
    "5. Transform (Chars SHA256 hash + block info hash) in a SHA256 hash - or - send only the chars SHA256 hash\n",
    "6. If the hash is valid, the user will send the hash to the server\n",
    "7. The server will check if the hash is valid\n",
    "8. If the hash is valid, check if the same transactions have the same block state confirmation\n",
    "9. If this transactions was not confirmed at this point at block history the server will add the user signature to the transaction contract\n",
    "10. The block only can be hashed when the minimum number of contracts valids with minimum number of signatures is reached\n",
    "11. The server will use the signature timeline to determine what transactions will be added to the block\n",
    "12. The server will calculate the master hash after confirm all valid contracts signatures\n",
    "13. The server will add the block to the blockchain and create a new one with last block unconfirmed transactions but completely unsigned\n",
    "13. The server will start a open/closed pool cycle\n",
    "14. The server will send a message to the user to start mining when the POOL is open and user has a ticket\n",
    "<p>\n",
    "The timestamps of the signatures will be usefull to version the block, checking it as a timeline\n",
    "</p>\n",
    "\n",
    "**The miners will be rewarded with the block reward distributed by the number of signatures**\n"
   ]
  },
  {
   "cell_type": "code",
   "execution_count": 1,
   "metadata": {},
   "outputs": [],
   "source": [
    "import pandas as pd\n",
    "import numpy as np\n",
    "import matplotlib.pyplot as plt\n",
    "import seaborn as sns\n",
    "import datetime\n",
    "import hashlib\n",
    "import itertools\n",
    "import requests as re"
   ]
  },
  {
   "cell_type": "code",
   "execution_count": 2,
   "metadata": {},
   "outputs": [
    {
     "name": "stdout",
     "output_type": "stream",
     "text": [
      "551e86307dfaddeb02f0326ec1667eac3257817b41ae8916531a06fbcdf9148c\n"
     ]
    },
    {
     "data": {
      "text/plain": [
       "(['her', 'number', 'it', 'at'],\n",
       " ['0654', '1523', '2307', '5890'],\n",
       " ['@(#$¨@#¨$@¨$$¨@(#$)', '$#$¨@*#$¨$(@#)', '@#$%^&*()_', ')@#$%^&*('])"
      ]
     },
     "execution_count": 2,
     "metadata": {},
     "output_type": "execute_result"
    }
   ],
   "source": [
    "key = '9e8b3f4bf92577861e06e3bc84a809794dd6a7ab9da1070a78eb763b3399595a'\n",
    "secret = 'a239c12ecc42911ecbc3b23a9539976caaa60f7d40028dea17cb67cc538c21bd'\n",
    "\n",
    "headers = {\n",
    "    'X-API-KEY': key,\n",
    "    'X-API-SECRET': secret,\n",
    "}\n",
    "\n",
    "\n",
    "transactions = re.get('http://localhost/api/v1/tr_to_mine', headers=headers)\n",
    "\n",
    "transactions = str(transactions.json())\n",
    "\n",
    "transactions_hash = hashlib.sha256(transactions.encode('utf-8')).hexdigest()\n",
    "\n",
    "print(transactions_hash)\n",
    "\n",
    "accepted_sequences = re.get('http://localhost/api/v1/info_to_mine', headers=headers)\n",
    "\n",
    "accepted_sequences = accepted_sequences.json()\n",
    "\n",
    "accepted_sequences\n",
    "\n",
    "def parse_accepted_sequences(accepted_sequences):\n",
    "    words = accepted_sequences['words']\n",
    "    numbers = accepted_sequences['number_sequences']\n",
    "    symbols = accepted_sequences['symbol_sequences']\n",
    "    return words, numbers, symbols\n",
    "\n",
    "words, numbers, symbols = parse_accepted_sequences(accepted_sequences)\n",
    "\n",
    "words, numbers, symbols"
   ]
  },
  {
   "cell_type": "code",
   "execution_count": 3,
   "metadata": {},
   "outputs": [],
   "source": [
    "def all_combinations(acceptable_words, acceptable_number_sequences, acceptables_symbol_sequences):\n",
    "    combinations = []\n",
    "    for comb in itertools.product(acceptable_words, acceptable_number_sequences, acceptables_symbol_sequences):\n",
    "        combinations.append(''.join(comb))\n",
    "    return combinations\n",
    "\n",
    "def hash_combinations(combinations, transactions_hash, run_on=0):\n",
    "    hash_list = []\n",
    "    counter = 0\n",
    "    for combination in combinations:\n",
    "        for comb in itertools.permutations(combination):\n",
    "            counter += 1\n",
    "            if counter > run_on:\n",
    "                random_hash = hashlib.sha256(''.join(comb).encode('utf-8')).hexdigest()\n",
    "                hash_list.append(hashlib.sha256((transactions_hash + random_hash).encode('utf-8')).hexdigest())\n",
    "            if len(hash_list) == 1000000:\n",
    "                return hash_list"
   ]
  },
  {
   "cell_type": "code",
   "execution_count": 4,
   "metadata": {},
   "outputs": [],
   "source": [
    "def calculate_hash_rate(acceptable_w, acceptable_n, acceptables_s, transactions_hash, run_on=0):\n",
    "    start = datetime.datetime.now()\n",
    "    all_combs = all_combinations(acceptable_w, acceptable_n, acceptables_s)\n",
    "    hash_list = hash_combinations(all_combs, transactions_hash)\n",
    "    end = datetime.datetime.now()\n",
    "    total_seconds = (end - start).total_seconds()\n",
    "    hash_rate = len(hash_list) / total_seconds\n",
    "    return hash_rate, start, end, total_seconds, hash_list\n",
    "\n",
    "def benchmark_table(hash_rate, start, end, total_seconds, hash_list):\n",
    "    hash_list_table = pd.DataFrame({\n",
    "        'hash': hash_list,\n",
    "    })\n",
    "    hash_rate_table = pd.DataFrame({\n",
    "        'Hash rate': [hash_rate, hash_rate / 1000, hash_rate / 1000000, hash_rate / 1000000000],\n",
    "        'Unit': ['h/s', 'kh/s', 'Mh/s', 'Gh/s']\n",
    "    })\n",
    "    time_table = pd.DataFrame({\n",
    "        'Time': [start, end, total_seconds],\n",
    "        'Unit': ['start', 'end', 'total_seconds'],\n",
    "    })\n",
    "    return hash_rate_table, time_table, hash_list_table"
   ]
  },
  {
   "cell_type": "code",
   "execution_count": null,
   "metadata": {},
   "outputs": [],
   "source": [
    "hash_rate, start, end, total_seconds, hash_list = calculate_hash_rate(words, numbers, symbols, transactions_hash)\n",
    "hash_rate_table, time_table, hash_list_table = benchmark_table(hash_rate, start, end, total_seconds, hash_list)"
   ]
  },
  {
   "cell_type": "code",
   "execution_count": null,
   "metadata": {},
   "outputs": [],
   "source": [
    "hash_list_table"
   ]
  },
  {
   "cell_type": "code",
   "execution_count": null,
   "metadata": {},
   "outputs": [],
   "source": [
    "time_table"
   ]
  },
  {
   "cell_type": "code",
   "execution_count": null,
   "metadata": {},
   "outputs": [],
   "source": [
    "hash_rate_table"
   ]
  },
  {
   "cell_type": "code",
   "execution_count": null,
   "metadata": {},
   "outputs": [],
   "source": [
    "def plot_hash_rate(hash_rate_table):\n",
    "    hash_rate_table.plot(x='Unit', y='Hash rate', kind='bar', logy=True)\n",
    "    plt.show()\n",
    "\n",
    "plot_hash_rate(hash_rate_table)"
   ]
  },
  {
   "cell_type": "code",
   "execution_count": 10,
   "metadata": {},
   "outputs": [
    {
     "data": {
      "text/plain": [
       "{'message': 'Contract assigned'}"
      ]
     },
     "execution_count": 10,
     "metadata": {},
     "output_type": "execute_result"
    }
   ],
   "source": [
    "hash_to_send = '99893b819abfa80498f244fddd080f570cecdc994199d5c6a8148141401cdff1'\n",
    "\n",
    "params = { 'user_confirmation_hash' : hash_to_send }\n",
    "confirm_request = re.post('http://localhost/api/v1/confirm_block', headers=headers, params=params)\n",
    "\n",
    "confirm_request.json()"
   ]
  }
 ],
 "metadata": {
  "kernelspec": {
   "display_name": "Python 3.9.2 64-bit",
   "language": "python",
   "name": "python3"
  },
  "language_info": {
   "codemirror_mode": {
    "name": "ipython",
    "version": 3
   },
   "file_extension": ".py",
   "mimetype": "text/x-python",
   "name": "python",
   "nbconvert_exporter": "python",
   "pygments_lexer": "ipython3",
   "version": "3.9.2"
  },
  "orig_nbformat": 4,
  "vscode": {
   "interpreter": {
    "hash": "916dbcbb3f70747c44a77c7bcd40155683ae19c65e1c03b4aa3499c5328201f1"
   }
  }
 },
 "nbformat": 4,
 "nbformat_minor": 2
}
